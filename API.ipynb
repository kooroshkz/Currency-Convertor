{
 "cells": [
  {
   "cell_type": "markdown",
   "metadata": {},
   "source": [
    "# Appilcation Programming Interface\n"
   ]
  },
  {
   "cell_type": "markdown",
   "metadata": {},
   "source": [
    "  # Statelessness in APIs\n",
    "\n",
    "APIs are typically **stateless**, meaning that each request is independent and does not rely on any previous requests. Every request made to an API should contain all the information needed for the server to understand and process it. \n",
    "\n",
    "The server does not store any session data between requests. This is important for scalability and reliability, as the server does not need to track or remember previous interactions with clients.\n",
    "\n",
    "For example, each time you make a request to an API, you send all the necessary information (such as headers, authentication tokens, or data), and the server processes that request without storing any information from the previous one.\n"
   ]
  },
  {
   "cell_type": "markdown",
   "metadata": {},
   "source": [
    "# End-to-End Request-Response Process\n",
    "\n",
    "When interacting with an API, you send a request to the server, and the server sends a response back. This process happens in a **request-response cycle**, which includes the following steps:\n",
    "\n",
    "1. **Client makes a request**: The client (typically your application or browser) sends a request to the API. This can be a `GET`, `POST`, `PUT`, `DELETE`, etc.\n",
    "   \n",
    "2. **Request is processed by the server**: The API server processes the request, which may involve querying a database, processing the request, or interacting with other services.\n",
    "\n",
    "3. **Response is sent to the client**: The server sends a response back to the client, which includes a status code (indicating success or failure) and often data in JSON or XML format.\n",
    "\n",
    "For example:\n",
    "- A **GET** request retrieves data from the server.\n",
    "- A **POST** request sends data to the server.\n",
    "\n",
    "The server **does not remember** past requests, which is why every request must include all the necessary details for it to be processed correctly.\n"
   ]
  },
  {
   "cell_type": "markdown",
   "metadata": {},
   "source": [
    "# Handling API Responses and Status Codes\n",
    "\n",
    "When an API processes a request, it sends a response that includes a **status code**. Common HTTP status codes include:\n",
    "\n",
    "- **200 OK**: The request was successful, and the response body contains the data.\n",
    "- **201 Created**: The request was successful, and a new resource was created.\n",
    "- **400 Bad Request**: The server could not understand the request due to invalid syntax.\n",
    "- **404 Not Found**: The requested resource could not be found on the server.\n",
    "- **500 Internal Server Error**: The server encountered an error and could not process the request.\n",
    "\n",
    "Example of checking the status code:\n"
   ]
  },
  {
   "cell_type": "code",
   "execution_count": null,
   "metadata": {},
   "outputs": [],
   "source": [
    "import requests\n",
    "response = requests.get('')\n",
    "\n",
    "print(f\"Status Code: {response.status_code}\")\n",
    "\n",
    "if response.status_code == 200:\n",
    "    print(response.json())\n",
    "else:\n",
    "    print(\"Error occurred\")\n"
   ]
  },
  {
   "cell_type": "code",
   "execution_count": 8,
   "metadata": {},
   "outputs": [],
   "source": [
    "params = {'q': 'Python Programming'}"
   ]
  },
  {
   "cell_type": "code",
   "execution_count": 12,
   "metadata": {},
   "outputs": [],
   "source": [
    "import requests"
   ]
  },
  {
   "cell_type": "code",
   "execution_count": 13,
   "metadata": {},
   "outputs": [],
   "source": [
    "url =\"https://www.googleapis.com/books/v1/volumes\""
   ]
  },
  {
   "cell_type": "code",
   "execution_count": 15,
   "metadata": {},
   "outputs": [],
   "source": [
    "response= requests.get(url,params=params)"
   ]
  },
  {
   "cell_type": "code",
   "execution_count": 20,
   "metadata": {},
   "outputs": [
    {
     "data": {
      "text/plain": [
       "3"
      ]
     },
     "execution_count": 20,
     "metadata": {},
     "output_type": "execute_result"
    }
   ],
   "source": [
    "len(response.json())"
   ]
  }
 ],
 "metadata": {
  "kernelspec": {
   "display_name": "base",
   "language": "python",
   "name": "python3"
  },
  "language_info": {
   "codemirror_mode": {
    "name": "ipython",
    "version": 3
   },
   "file_extension": ".py",
   "mimetype": "text/x-python",
   "name": "python",
   "nbconvert_exporter": "python",
   "pygments_lexer": "ipython3",
   "version": "3.11.5"
  },
  "orig_nbformat": 4
 },
 "nbformat": 4,
 "nbformat_minor": 2
}
